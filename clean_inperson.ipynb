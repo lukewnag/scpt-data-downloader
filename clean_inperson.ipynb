{
 "cells": [
  {
   "cell_type": "code",
   "execution_count": null,
   "metadata": {},
   "outputs": [],
   "source": [
    "folder = \"./2025_scpt_resumes\""
   ]
  },
  {
   "cell_type": "code",
   "execution_count": null,
   "metadata": {},
   "outputs": [],
   "source": [
    "# manually check all potential duplicate resumes before deleting\n",
    "import os\n",
    "resumes = os.listdir(folder)\n",
    "names = list(map(lambda x: '_'.join(x.split('_')[1:-1]), resumes))\n",
    "names_set = {*names}\n",
    "for n in names_set:\n",
    "    if names.count(n) > 1:\n",
    "        print(n)"
   ]
  },
  {
   "cell_type": "code",
   "execution_count": 5,
   "metadata": {},
   "outputs": [
    {
     "name": "stdout",
     "output_type": "stream",
     "text": [
      "[]\n"
     ]
    }
   ],
   "source": [
    "from PyPDF2 import PdfReader\n",
    "import os\n",
    "\n",
    "def checkFile(fullfile):\n",
    "    with open(fullfile, 'rb') as f:\n",
    "        try:\n",
    "            pdf = PdfReader(f)\n",
    "            info = pdf.metadata\n",
    "            if info:\n",
    "                return True\n",
    "            else:\n",
    "                return False\n",
    "        except:\n",
    "            return False\n",
    "\n",
    "def searchFiles(dirpath):\n",
    "    badFiles = []\n",
    "    listfiles = os.listdir(dirpath)\n",
    "    for f in listfiles:\n",
    "        fullfile = os.path.join(dirpath, f)\n",
    "        if not checkFile(fullfile):\n",
    "            print(\"ERROR \" + fullfile)\n",
    "            badFiles.append(fullfile)\n",
    "    return badFiles\n",
    "\n",
    "badFiles = searchFiles(folder)\n",
    "print(badFiles)"
   ]
  },
  {
   "cell_type": "code",
   "execution_count": 16,
   "metadata": {},
   "outputs": [
    {
     "name": "stderr",
     "output_type": "stream",
     "text": [
      "100%|██████████| 1/1 [00:03<00:00,  3.00s/it]\n"
     ]
    }
   ],
   "source": [
    "from docx2pdf import convert\n",
    "\n",
    "for file in badFiles:\n",
    "    newname = file[:-4] + '.docx'\n",
    "    os.rename(file, newname)\n",
    "    convert(newname, file)\n",
    "    os.remove(newname)"
   ]
  }
 ],
 "metadata": {
  "kernelspec": {
   "display_name": ".venv",
   "language": "python",
   "name": "python3"
  },
  "language_info": {
   "codemirror_mode": {
    "name": "ipython",
    "version": 3
   },
   "file_extension": ".py",
   "mimetype": "text/x-python",
   "name": "python",
   "nbconvert_exporter": "python",
   "pygments_lexer": "ipython3",
   "version": "3.10.11"
  }
 },
 "nbformat": 4,
 "nbformat_minor": 2
}
