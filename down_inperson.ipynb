{
 "cells": [
  {
   "cell_type": "code",
   "execution_count": null,
   "metadata": {},
   "outputs": [],
   "source": [
    "import gspread\n",
    "from google.oauth2.service_account import Credentials\n",
    "\n",
    "# Load credentials from JSON file - MAKE SURE TO MAKE ONE FIRST, ENABLE GOOGLE DRIVE AND GOOGLE SHEETS API (ask chatgpt)\n",
    "# Replace the form-response-resume-extracter thing with your credentials json file to use it\n",
    "SCOPES = [\"https://www.googleapis.com/auth/spreadsheets\", \"https://www.googleapis.com/auth/drive\"]\n",
    "creds = Credentials.from_service_account_file(\"form-response-resume-extracter.json\", scopes=SCOPES)\n",
    "\n",
    "# Authorize gspread\n",
    "client = gspread.authorize(creds)\n",
    "\n",
    "# Open the Google Sheet\n",
    "SPREADSHEET_ID = \"13Yz7_yaocfgUJ3LrSatAcGAUAXzmHT_-jP322cR3oHY\"  # Replace with actual ID from the sheet URL\n",
    "sheet = client.open_by_key(SPREADSHEET_ID).sheet1\n",
    "\n",
    "# Get all data from the applications sheet\n",
    "data = sheet.get_all_records()"
   ]
  },
  {
   "cell_type": "code",
   "execution_count": 26,
   "metadata": {},
   "outputs": [],
   "source": [
    "import pandas as pd\n",
    "import re\n",
    "\n",
    "def snake_case(s):\n",
    "    s = re.sub(r\"[-.\\s]\", '_', str(s))\n",
    "    return '_'.join(re.findall(r\"[A-Za-z0-9]+\", s)).lower()\n",
    "\n",
    "admits_df = pd.DataFrame(data)\n",
    "admits_df['Snake Case Name'] = [snake_case(name) for name in admits_df['Name']]"
   ]
  },
  {
   "cell_type": "code",
   "execution_count": null,
   "metadata": {},
   "outputs": [],
   "source": [
    "admits_df[\"Resume Name\"] = \"resume_\" + admits_df['Snake Case Name'] + \"_\" + admits_df.index.astype(str) + \".pdf\"\n",
    "resume_key = \"Please upload your resume again!\"\n",
    "going = admits_df[admits_df['Will you be competing at the 2025 SCPT? Please note that this is binding!'] == 'Yes']\n",
    "pdf_links = going.set_index('Resume Name')[resume_key].to_dict()"
   ]
  },
  {
   "cell_type": "code",
   "execution_count": null,
   "metadata": {},
   "outputs": [],
   "source": [
    "import os\n",
    "import requests\n",
    "import re\n",
    "\n",
    "def extract_file_id(url):\n",
    "    match = re.search(r\"(?:id=|/d/|uc\\?id=)([a-zA-Z0-9_-]+)\", url)\n",
    "    return match.group(1) if match else None\n",
    "\n",
    "# Create the Drive API service\n",
    "from googleapiclient.discovery import build\n",
    "drive_service = build(\"drive\", \"v3\", credentials=creds)\n",
    "\n",
    "# Folder to save PDFs\n",
    "output_folder = \"./2025_scpt_resumes\"\n",
    "os.makedirs(output_folder, exist_ok=True)\n",
    "\n",
    "def download_pdf(file_id, save_path):\n",
    "    \"\"\"Download a PDF from Google Drive using file ID.\"\"\"\n",
    "    try:\n",
    "        request = drive_service.files().get_media(fileId=file_id)\n",
    "        with open(save_path, \"wb\") as f:\n",
    "            f.write(request.execute())\n",
    "        # print(f\"Downloaded: {save_path}\")\n",
    "    except Exception as e:\n",
    "        print(f\"Failed to download {file_id}: {e}\")\n",
    "\n",
    "for file_name, url in pdf_links.items():\n",
    "    file_id = extract_file_id(url)\n",
    "    if file_id:\n",
    "        file_path = os.path.join(output_folder, file_name)\n",
    "        try:\n",
    "            download_pdf(file_id, file_path)\n",
    "            print(f\"Downloaded: {file_path}\")\n",
    "        except Exception as e:\n",
    "            print(f\"Failed to download {file_id}: {e}\")\n",
    "    else:\n",
    "        print(f\"Invalid URL: {url}\")"
   ]
  }
 ],
 "metadata": {
  "kernelspec": {
   "display_name": ".venv",
   "language": "python",
   "name": "python3"
  },
  "language_info": {
   "codemirror_mode": {
    "name": "ipython",
    "version": 3
   },
   "file_extension": ".py",
   "mimetype": "text/x-python",
   "name": "python",
   "nbconvert_exporter": "python",
   "pygments_lexer": "ipython3",
   "version": "3.10.11"
  }
 },
 "nbformat": 4,
 "nbformat_minor": 2
}
