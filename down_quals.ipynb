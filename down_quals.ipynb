{
 "cells": [
  {
   "cell_type": "code",
   "execution_count": 111,
   "metadata": {},
   "outputs": [],
   "source": [
    "DATE = '11'"
   ]
  },
  {
   "cell_type": "code",
   "execution_count": null,
   "metadata": {},
   "outputs": [],
   "source": [
    "import gspread\n",
    "from google.oauth2.service_account import Credentials\n",
    "\n",
    "# Load credentials from JSON file - MAKE SURE TO MAKE ONE FIRST, ENABLE GOOGLE DRIVE AND GOOGLE SHEETS API (ask chatgpt)\n",
    "# Replace the form-response-resume-extracter thing with your credentials json file to use it\n",
    "SCOPES = [\"https://www.googleapis.com/auth/spreadsheets\", \"https://www.googleapis.com/auth/drive\"]\n",
    "creds = Credentials.from_service_account_file(\"form-response-resume-extracter.json\", scopes=SCOPES)\n",
    "\n",
    "# Authorize gspread\n",
    "client = gspread.authorize(creds)\n",
    "\n",
    "# Open the Google Sheet\n",
    "SPREADSHEET_ID = \"1cohjNpgtIBmoFyOwBW16pe1oryK4G22NALlSQ7BTByY\"  # Replace with actual ID from the sheet URL\n",
    "sheet = client.open_by_key(SPREADSHEET_ID).sheet1\n",
    "\n",
    "# Get all data from the applications sheet\n",
    "data = sheet.get_all_records()"
   ]
  },
  {
   "cell_type": "code",
   "execution_count": 113,
   "metadata": {},
   "outputs": [],
   "source": [
    "import pandas as pd\n",
    "# Open the Google Sheet for people selected to quals\n",
    "SPREADSHEET_ID = \"1dtldMuoF3UcdEcYdzDW2isWl-Uex0Ws1h0xtMBMgtRg\"  # Replace with actual ID from the sheet URL\n",
    "sheet = client.open_by_key(SPREADSHEET_ID).sheet1\n",
    "\n",
    "# Get all data from the qualifiers sheet\n",
    "quals_df = pd.DataFrame(sheet.get_all_records())\n",
    "quals_df_filtered = quals_df[quals_df['2/'+DATE] == 'TRUE']\n",
    "emails = quals_df_filtered['Email Address'].to_list()"
   ]
  },
  {
   "cell_type": "code",
   "execution_count": 114,
   "metadata": {},
   "outputs": [],
   "source": [
    "df = pd.DataFrame(data)\n",
    "df[\"Resume Name\"] = \"Resume_\" + df['Full Name'].str.title().str.split().str[0] + \"_\" + df['Full Name'].str.title().str.split().str[-1] + \"_\" + df.index.astype(str) + \".pdf\"\n",
    "resume_key = \"Please upload your resume here as a PDF. \\n\\nNote: by submitting your resume here, you are consenting to having it be shared with our sponsors in the event that your application is accepted.\"\n",
    "# Assuming the sheet has 'Email' and 'PDF Link' columns\n",
    "filtered_df = df[df[\"Email Address\"].isin(emails)]  # Filter rows where email is in x\n",
    "pdf_links = filtered_df.set_index('Resume Name')[resume_key].to_dict()"
   ]
  },
  {
   "cell_type": "code",
   "execution_count": 115,
   "metadata": {},
   "outputs": [],
   "source": [
    "detected_emails = filtered_df['Email Address'].tolist()\n",
    "manual_download = []\n",
    "for email in emails:\n",
    "    if email not in detected_emails:\n",
    "        manual_download.append(email)"
   ]
  },
  {
   "cell_type": "code",
   "execution_count": null,
   "metadata": {},
   "outputs": [],
   "source": [
    "delinquent_names = quals_df[quals_df['Email Address'].isin(manual_download)]['Full Name'].str.lower().tolist()\n",
    "ok_names = []\n",
    "df['First Last Name'] = df['Full Name'].str.lower().str.split().str[0] + \" \" + df['Full Name'].str.lower().str.split().str[-1]\n",
    "dels_df = df[df[\"First Last Name\"].isin(delinquent_names)]  # Filter rows where email is in x\n",
    "for name in delinquent_names:\n",
    "    if name in dels_df['First Last Name'].values:\n",
    "        if dels_df[\"First Last Name\"].value_counts()[name] == 1:\n",
    "            ok_names.append(name)\n",
    "        else:\n",
    "            print(name, 'appears', dels_df[\"First Last Name\"].value_counts()[name], 'times')\n",
    "    else:\n",
    "        print('ERROR NAME NOT FOUND:', name)"
   ]
  },
  {
   "cell_type": "code",
   "execution_count": 117,
   "metadata": {},
   "outputs": [],
   "source": [
    "new_filtered_df = dels_df[dels_df[\"First Last Name\"].isin(ok_names)]  # Filter rows where email is in x\n",
    "new_pdf_links = new_filtered_df.set_index('Resume Name')[resume_key].to_dict()\n",
    "pdf_links.update(new_pdf_links)"
   ]
  },
  {
   "cell_type": "code",
   "execution_count": null,
   "metadata": {},
   "outputs": [],
   "source": [
    "import os\n",
    "import requests\n",
    "import re\n",
    "\n",
    "def extract_file_id(url):\n",
    "    match = re.search(r\"(?:id=|/d/|uc\\?id=)([a-zA-Z0-9_-]+)\", url)\n",
    "    return match.group(1) if match else None\n",
    "\n",
    "# Create the Drive API service\n",
    "from googleapiclient.discovery import build\n",
    "drive_service = build(\"drive\", \"v3\", credentials=creds)\n",
    "\n",
    "# Folder to save PDFs\n",
    "output_folder = f\"feb{DATE}_quals_resumes\"\n",
    "os.makedirs(output_folder, exist_ok=True)\n",
    "\n",
    "def download_pdf(file_id, save_path):\n",
    "    \"\"\"Download a PDF from Google Drive using file ID.\"\"\"\n",
    "    try:\n",
    "        request = drive_service.files().get_media(fileId=file_id)\n",
    "        with open(save_path, \"wb\") as f:\n",
    "            f.write(request.execute())\n",
    "        # print(f\"Downloaded: {save_path}\")\n",
    "    except Exception as e:\n",
    "        print(f\"Failed to download {file_id}: {e}\")\n",
    "\n",
    "for file_name, url in pdf_links.items():\n",
    "    file_id = extract_file_id(url)\n",
    "    if file_id:\n",
    "        file_path = os.path.join(output_folder, file_name)\n",
    "        try:\n",
    "            download_pdf(file_id, file_path)\n",
    "            print(f\"Downloaded: {file_path}\")\n",
    "        except Exception as e:\n",
    "            print(f\"Failed to download {file_id}: {e}\")\n",
    "    else:\n",
    "        print(f\"Invalid URL: {url}\")"
   ]
  }
 ],
 "metadata": {
  "kernelspec": {
   "display_name": ".venv",
   "language": "python",
   "name": "python3"
  },
  "language_info": {
   "codemirror_mode": {
    "name": "ipython",
    "version": 3
   },
   "file_extension": ".py",
   "mimetype": "text/x-python",
   "name": "python",
   "nbconvert_exporter": "python",
   "pygments_lexer": "ipython3",
   "version": "3.10.11"
  }
 },
 "nbformat": 4,
 "nbformat_minor": 2
}
