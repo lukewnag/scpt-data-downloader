{
 "cells": [
  {
   "cell_type": "code",
   "execution_count": 13,
   "metadata": {},
   "outputs": [],
   "source": [
    "DATE = '4'\n",
    "folder = f'./feb{DATE}_quals_resumes'"
   ]
  },
  {
   "cell_type": "code",
   "execution_count": null,
   "metadata": {},
   "outputs": [],
   "source": [
    "from pypdf import PdfWriter\n",
    "import os\n",
    "\n",
    "pdfs = os.listdir(folder)\n",
    "\n",
    "merger = PdfWriter()\n",
    "merger.append('./SCPT_Resume_Book_Cover.pdf')\n",
    "\n",
    "for pdf in pdfs:\n",
    "    print(pdf)\n",
    "    merger.append(f'{folder}/{pdf}')\n",
    "\n",
    "merger.write(f\"SCPT_Resume_Book_Feb_{DATE}_Qualifier.pdf\")\n",
    "merger.close()"
   ]
  }
 ],
 "metadata": {
  "kernelspec": {
   "display_name": ".venv",
   "language": "python",
   "name": "python3"
  },
  "language_info": {
   "codemirror_mode": {
    "name": "ipython",
    "version": 3
   },
   "file_extension": ".py",
   "mimetype": "text/x-python",
   "name": "python",
   "nbconvert_exporter": "python",
   "pygments_lexer": "ipython3",
   "version": "3.10.11"
  }
 },
 "nbformat": 4,
 "nbformat_minor": 2
}
